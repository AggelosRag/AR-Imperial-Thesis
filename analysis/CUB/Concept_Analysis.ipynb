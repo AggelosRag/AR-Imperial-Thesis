{
 "cells": [
  {
   "cell_type": "code",
   "execution_count": 1,
   "outputs": [],
   "source": [
    "import pickle as pkl\n",
    "import matplotlib.pyplot as plt\n",
    "import seaborn as sns\n",
    "import pandas as pd\n",
    "import numpy as np\n",
    "import os\n",
    "import pickle\n",
    "import torch\n",
    "from pathlib import Path\n",
    "from torchvision import datasets, transforms"
   ],
   "metadata": {
    "collapsed": false,
    "ExecuteTime": {
     "end_time": "2024-09-01T09:13:07.684546Z",
     "start_time": "2024-09-01T09:13:06.295323Z"
    }
   },
   "id": "488d477854fa3767"
  },
  {
   "cell_type": "code",
   "execution_count": 2,
   "outputs": [
    {
     "data": {
      "text/plain": "'/Users/gouse/PycharmProjects/AR-Imperial-Thesis'"
     },
     "execution_count": 2,
     "metadata": {},
     "output_type": "execute_result"
    }
   ],
   "source": [
    "os.chdir('/Users/gouse/PycharmProjects/AR-Imperial-Thesis')\n",
    "os.getcwd()"
   ],
   "metadata": {
    "collapsed": false,
    "ExecuteTime": {
     "end_time": "2024-09-01T09:13:07.690201Z",
     "start_time": "2024-09-01T09:13:07.685748Z"
    }
   },
   "id": "3dad7c71cf48fbeb"
  },
  {
   "cell_type": "markdown",
   "source": [
    "## Load the data"
   ],
   "metadata": {
    "collapsed": false
   },
   "id": "d0796a398bb2a311"
  },
  {
   "cell_type": "code",
   "execution_count": 3,
   "outputs": [
    {
     "name": "stdout",
     "output_type": "stream",
     "text": [
      "200\n"
     ]
    }
   ],
   "source": [
    "feature_names = [\"has_bill_shape::dagger\", \"has_bill_shape::hooked_seabird\", \"has_bill_shape::all-purpose\", \"has_bill_shape::cone\", \"has_wing_color::brown\", \"has_wing_color::grey\", \"has_wing_color::yellow\", \"has_wing_color::black\", \"has_wing_color::white\", \"has_wing_color::buff\", \"has_upperparts_color::brown\", \"has_upperparts_color::grey\", \"has_upperparts_color::yellow\", \"has_upperparts_color::black\", \"has_upperparts_color::white\", \"has_upperparts_color::buff\", \"has_underparts_color::brown\", \"has_underparts_color::grey\", \"has_underparts_color::yellow\", \"has_underparts_color::black\", \"has_underparts_color::white\", \"has_underparts_color::buff\", \"has_breast_pattern::solid\", \"has_breast_pattern::striped\", \"has_breast_pattern::multi-colored\", \"has_back_color::brown\", \"has_back_color::grey\", \"has_back_color::yellow\", \"has_back_color::black\"]\n",
    "\n",
    "feature_names_all = [\"has_bill_shape::dagger\", \"has_bill_shape::hooked_seabird\", \"has_bill_shape::all-purpose\", \"has_bill_shape::cone\", \"has_wing_color::brown\", \"has_wing_color::grey\", \"has_wing_color::yellow\", \"has_wing_color::black\", \"has_wing_color::white\", \"has_wing_color::buff\", \"has_upperparts_color::brown\", \"has_upperparts_color::grey\", \"has_upperparts_color::yellow\", \"has_upperparts_color::black\", \"has_upperparts_color::white\", \"has_upperparts_color::buff\", \"has_underparts_color::brown\", \"has_underparts_color::grey\", \"has_underparts_color::yellow\", \"has_underparts_color::black\", \"has_underparts_color::white\", \"has_underparts_color::buff\", \"has_breast_pattern::solid\", \"has_breast_pattern::striped\", \"has_breast_pattern::multi-colored\", \"has_back_color::brown\", \"has_back_color::grey\", \"has_back_color::yellow\", \"has_back_color::black\", \"has_back_color::white\", \"has_back_color::buff\", \"has_tail_shape::notched_tail\", \"has_upper_tail_color::brown\", \"has_upper_tail_color::grey\", \"has_upper_tail_color::black\", \"has_upper_tail_color::white\", \"has_upper_tail_color::buff\", \"has_head_pattern::eyebrow\", \"has_head_pattern::plain\", \"has_breast_color::brown\", \"has_breast_color::grey\", \"has_breast_color::yellow\", \"has_breast_color::black\", \"has_breast_color::white\", \"has_breast_color::buff\", \"has_throat_color::grey\", \"has_throat_color::yellow\", \"has_throat_color::black\", \"has_throat_color::white\", \"has_throat_color::buff\", \"has_eye_color::black\", \"has_bill_length::about_the_same_as_head\", \"has_bill_length::shorter_than_head\", \"has_forehead_color::blue\", \"has_forehead_color::brown\", \"has_forehead_color::grey\", \"has_forehead_color::yellow\", \"has_forehead_color::black\", \"has_forehead_color::white\", \"has_under_tail_color::brown\", \"has_under_tail_color::grey\", \"has_under_tail_color::black\", \"has_under_tail_color::white\", \"has_under_tail_color::buff\", \"has_nape_color::brown\", \"has_nape_color::grey\", \"has_nape_color::yellow\", \"has_nape_color::black\", \"has_nape_color::white\", \"has_nape_color::buff\", \"has_belly_color::brown\", \"has_belly_color::grey\", \"has_belly_color::yellow\", \"has_belly_color::black\", \"has_belly_color::white\", \"has_belly_color::buff\", \"has_wing_shape::rounded-wings\", \"has_wing_shape::pointed-wings\", \"has_size::small_(5_-_9_in)\", \"has_size::medium_(9_-_16_in)\", \"has_size::very_small_(3_-_5_in)\", \"has_shape::duck-like\", \"has_shape::perching-like\", \"has_back_pattern::solid\", \"has_back_pattern::striped\", \"has_back_pattern::multi-colored\", \"has_tail_pattern::solid\", \"has_tail_pattern::striped\", \"has_tail_pattern::multi-colored\", \"has_belly_pattern::solid\", \"has_primary_color::brown\", \"has_primary_color::grey\", \"has_primary_color::yellow\", \"has_primary_color::black\", \"has_primary_color::white\", \"has_primary_color::buff\", \"has_leg_color::grey\", \"has_leg_color::black\", \"has_leg_color::buff\", \"has_bill_color::grey\", \"has_bill_color::black\", \"has_bill_color::buff\", \"has_crown_color::blue\", \"has_crown_color::brown\", \"has_crown_color::grey\", \"has_crown_color::yellow\", \"has_crown_color::black\", \"has_crown_color::white\", \"has_wing_pattern::solid\", \"has_wing_pattern::spotted\", \"has_wing_pattern::striped\", \"has_wing_pattern::multi-colored\"]\n",
    "\n",
    "indices_to_keep_from_or_concept_list = [0, 1, 2, 3, 4, 5, 6, 7, 8, 9, 10, 11, 12, 13, 14, 15, 16, 17, 18, 19, 20, 21, 22, 23, 24, 25, 26, 27, 28]\n",
    "\n",
    "class_names = [\"Black_footed_Albatross\", \"Laysan_Albatross\", \"Sooty_Albatross\", \"Groove_billed_Ani\", \"Crested_Auklet\", \n",
    "                \"Least_Auklet\", \"Parakeet_Auklet\", \"Rhinoceros_Auklet\", \"Brewer_Blackbird\", \"Red_winged_Blackbird\", \n",
    "                \"Rusty_Blackbird\", \"Yellow_headed_Blackbird\", \"Bobolink\", \"Indigo_Bunting\", \"Lazuli_Bunting\", \n",
    "                \"Painted_Bunting\", \"Cardinal\", \"Spotted_Catbird\", \"Gray_Catbird\", \"Yellow_breasted_Chat\", \"Eastern_Towhee\", \"Chuck_will_Widow\", \"Brandt_Cormorant\", \"Red_faced_Cormorant\", \"Pelagic_Cormorant\", \"Bronzed_Cowbird\", \"Shiny_Cowbird\", \"Brown_Creeper\", \"American_Crow\", \"Fish_Crow\", \"Black_billed_Cuckoo\", \"Mangrove_Cuckoo\", \"Yellow_billed_Cuckoo\", \"Gray_crowned_Rosy_Finch\", \"Purple_Finch\", \"Northern_Flicker\", \"Acadian_Flycatcher\", \"Great_Crested_Flycatcher\", \"Least_Flycatcher\", \"Olive_sided_Flycatcher\", \"Scissor_tailed_Flycatcher\", \n",
    "                \"Vermilion_Flycatcher\", \"Yellow_bellied_Flycatcher\", \"Frigatebird\", \"Northern_Fulmar\", \"Gadwall\", \n",
    "                \"American_Goldfinch\", \"European_Goldfinch\", \"Boat_tailed_Grackle\", \"Eared_Grebe\", \"Horned_Grebe\", \n",
    "                \"Pied_billed_Grebe\", \"Western_Grebe\", \"Blue_Grosbeak\", \"Evening_Grosbeak\", \"Pine_Grosbeak\", \n",
    "                \"Rose_breasted_Grosbeak\", \"Pigeon_Guillemot\", \"California_Gull\", \"Glaucous_winged_Gull\", \"Heermann_Gull\", \"Herring_Gull\", \"Ivory_Gull\", \"Ring_billed_Gull\", \"Slaty_backed_Gull\", \"Western_Gull\",\"Anna_Hummingbird\", \"Ruby_throated_Hummingbird\", \"Rufous_Hummingbird\", \"Green_Violetear\", \"Long_tailed_Jaeger\", \"Pomarine_Jaeger\", \"Blue_Jay\", \"Florida_Jay\", \"Green_Jay\", \"Dark_eyed_Junco\", \"Tropical_Kingbird\", \"Gray_Kingbird\", \"Belted_Kingfisher\", \"Green_Kingfisher\", \"Pied_Kingfisher\", \"Ringed_Kingfisher\", \"White_breasted_Kingfisher\", \"Red_legged_Kittiwake\", \"Horned_Lark\", \"Pacific_Loon\", \"Mallard\", \"Western_Meadowlark\", \"Hooded_Merganser\", \"Red_breasted_Merganser\", \"Mockingbird\", \"Nighthawk\", \"Clark_Nutcracker\", \"White_breasted_Nuthatch\", \"Baltimore_Oriole\", \"Hooded_Oriole\", \"Orchard_Oriole\", \"Scott_Oriole\", \"Ovenbird\", \"Brown_Pelican\", \"White_Pelican\", \"Western_Wood_Pewee\", \"Sayornis\", \"American_Pipit\", \"Whip_poor_Will\", \"Horned_Puffin\", \"Common_Raven\", \"White_necked_Raven\", \"American_Redstart\", \"Geococcyx\", \"Loggerhead_Shrike\", \"Great_Grey_Shrike\", \"Baird_Sparrow\", \"Black_throated_Sparrow\", \"Brewer_Sparrow\", \"Chipping_Sparrow\", \"Clay_colored_Sparrow\", \"House_Sparrow\", \"Field_Sparrow\", \"Fox_Sparrow\", \"Grasshopper_Sparrow\", \"Harris_Sparrow\", \"Henslow_Sparrow\", \"Le_Conte_Sparrow\", \"Lincoln_Sparrow\", \"Nelson_Sharp_tailed_Sparrow\", \"Savannah_Sparrow\", \"Seaside_Sparrow\", \"Song_Sparrow\",  \"Tree_Sparrow\", \"Vesper_Sparrow\", \"White_crowned_Sparrow\", \"White_throated_Sparrow\", \"Cape_Glossy_Starling\", \"Bank_Swallow\", \"Barn_Swallow\", \"Cliff_Swallow\", \"Tree_Swallow\", \"Scarlet_Tanager\", \"Summer_Tanager\", \"Artic_Tern\", \"Black_Tern\", \"Caspian_Tern\", \"Common_Tern\", \"Elegant_Tern\", \"Forsters_Tern\", \"Least_Tern\", \"Green_tailed_Towhee\", \"Brown_Thrasher\", \"Sage_Thrasher\", \"Black_capped_Vireo\", \"Blue_headed_Vireo\",  \"Philadelphia_Vireo\", \"Red_eyed_Vireo\", \"Warbling_Vireo\", \"White_eyed_Vireo\", \"Yellow_throated_Vireo\", \"Bay_breasted_Warbler\", \"Black_and_white_Warbler\", \"Black_throated_Blue_Warbler\", \"Blue_winged_Warbler\", \"Canada_Warbler\", \"Cape_May_Warbler\", \"Cerulean_Warbler\", \"Chestnut_sided_Warbler\", \"Golden_winged_Warbler\", \"Hooded_Warbler\", \"Kentucky_Warbler\", \"Magnolia_Warbler\", \"Mourning_Warbler\", \"Myrtle_Warbler\",  \"Nashville_Warbler\", \"Orange_crowned_Warbler\", \"Palm_Warbler\", \"Pine_Warbler\", \"Prairie_Warbler\", \"Prothonotary_Warbler\", \"Swainson_Warbler\", \"Tennessee_Warbler\", \"Wilson_Warbler\", \"Worm_eating_Warbler\", \"Yellow_Warbler\", \"Northern_Waterthrush\", \"Louisiana_Waterthrush\", \"Bohemian_Waxwing\", \"Cedar_Waxwing\", \"American_Three_toed_Woodpecker\", \"Pileated_Woodpecker\", \"Red_bellied_Woodpecker\", \"Red_cockaded_Woodpecker\", \"Red_headed_Woodpecker\", \"Downy_Woodpecker\", \"Bewick_Wren\", \"Cactus_Wren\", \"Carolina_Wren\", \"House_Wren\", \"Marsh_Wren\", \"Rock_Wren\", \"Winter_Wren\", \"Common_Yellowthroat\"]\n",
    "\n",
    "print(len(class_names))\n",
    "# mapping from feature index to feature name\n",
    "feature_index_to_name = {i: feature_name for i, feature_name in enumerate(feature_names)}\n",
    "# mapping from feature name to feature index\n",
    "feature_name_to_index = {feature_name: i for i, feature_name in enumerate(feature_names)}\n",
    "# mapping from class index to class name\n",
    "class_index_to_name = {i: class_name for i, class_name in enumerate(class_names)}\n",
    "# mapping from class name to class index\n",
    "class_name_to_index = {class_name: i for i, class_name in enumerate(class_names)}\n",
    "# mapping from all feature index to feature name\n",
    "feature_all_index_to_name = {i: feature_name for i, feature_name in enumerate(feature_names_all)}"
   ],
   "metadata": {
    "collapsed": false,
    "ExecuteTime": {
     "end_time": "2024-09-01T09:13:07.699504Z",
     "start_time": "2024-09-01T09:13:07.688631Z"
    }
   },
   "id": "fbc75b406915be9f"
  },
  {
   "cell_type": "code",
   "execution_count": 4,
   "outputs": [],
   "source": [
    "from data_loaders.CUB_data_loader import CUBDataset, ImbalancedDatasetSampler, BatchSampler\n",
    "from torch.utils.data import Dataset, DataLoader,TensorDataset\n",
    "\n",
    "def load_cub_data(pkl_paths, use_attr, no_img, batch_size,\n",
    "                  uncertain_label=False, n_class_attr=2, image_dir='images',\n",
    "                  resampling=False, resol=299,\n",
    "                  normalizer=transforms.Normalize(mean=[0.5, 0.5, 0.5],\n",
    "                                                  std=[2, 2, 2]),\n",
    "                  n_classes=200, reduced_concepts=False):\n",
    "\n",
    "    transform = transforms.Compose([\n",
    "            transforms.CenterCrop(resol),\n",
    "            transforms.ToTensor(),\n",
    "        ])\n",
    "    dataset = CUBDataset(pkl_paths, use_attr, no_img, uncertain_label,\n",
    "                         image_dir, n_class_attr, n_classes, transform=transform,\n",
    "                         reduced_concepts=reduced_concepts)\n",
    "    \n",
    "    is_training = any(['train.pkl' in f for f in pkl_paths])\n",
    "    if is_training:\n",
    "        drop_last = True\n",
    "        shuffle = True\n",
    "    else:\n",
    "        drop_last = False\n",
    "        shuffle = False\n",
    "    loader = DataLoader(dataset, batch_size=batch_size, shuffle=shuffle,\n",
    "                        drop_last=drop_last)\n",
    "    return loader"
   ],
   "metadata": {
    "collapsed": false,
    "ExecuteTime": {
     "end_time": "2024-09-01T09:13:08.171923Z",
     "start_time": "2024-09-01T09:13:07.699289Z"
    }
   },
   "id": "ca7ae0230191f9f0"
  },
  {
   "cell_type": "code",
   "execution_count": 9,
   "outputs": [
    {
     "name": "stdout",
     "output_type": "stream",
     "text": [
      "Reduced length of data attributes to 29\n",
      "4796 training set size\n"
     ]
    }
   ],
   "source": [
    "num_classes = 200\n",
    "reduced_concepts = indices_to_keep_from_or_concept_list\n",
    "CUB_PROCESSED_DIR = Path(\"datasets/CUB/class_attr_data_10\")\n",
    "CUB_DATA_DIR = Path(\"datasets/CUB/CUB_200_2011\")\n",
    "N_ATTRIBUTES = 312\n",
    "\n",
    "TRAIN_PKL = str(CUB_PROCESSED_DIR) + \"/train.pkl\"\n",
    "VAL_PKL = str(CUB_PROCESSED_DIR) + \"/val.pkl\"\n",
    "TEST_PKL = str(CUB_PROCESSED_DIR) + \"/test.pkl\"\n",
    "normalizer = transforms.Normalize(mean=[0.5, 0.5, 0.5], std=[2, 2, 2])\n",
    "train_loader = load_cub_data([TRAIN_PKL], use_attr=True, no_img=False,\n",
    "                             batch_size=1,\n",
    "                             uncertain_label=False, image_dir=str(CUB_DATA_DIR),\n",
    "                             resol=224, normalizer=normalizer,\n",
    "                             n_classes=num_classes, resampling=False,\n",
    "                             reduced_concepts=reduced_concepts)\n",
    "\n",
    "print(len(train_loader.dataset), \"training set size\")"
   ],
   "metadata": {
    "collapsed": false,
    "ExecuteTime": {
     "end_time": "2024-09-01T09:16:47.131941Z",
     "start_time": "2024-09-01T09:16:46.941587Z"
    }
   },
   "id": "9eab9e0c03ad2462"
  },
  {
   "cell_type": "markdown",
   "source": [
    "## Find Mutual Exclusive Concepts"
   ],
   "metadata": {
    "collapsed": false
   },
   "id": "9019e77011be1bf5"
  },
  {
   "cell_type": "code",
   "execution_count": 31,
   "outputs": [],
   "source": [
    "concept_groups = {\"has_bill_shape\": [\"has_bill_shape::dagger\", \"has_bill_shape::hooked_seabird\", \"has_bill_shape::all-purpose\", \"has_bill_shape::cone\"], \"has_wing_color\": [\"has_wing_color::brown\", \"has_wing_color::grey\", \"has_wing_color::yellow\", \"has_wing_color::black\", \"has_wing_color::white\", \"has_wing_color::buff\"], \"has_upperparts_color\": [\"has_upperparts_color::brown\", \"has_upperparts_color::grey\", \"has_upperparts_color::yellow\", \"has_upperparts_color::black\", \"has_upperparts_color::white\", \"has_upperparts_color::buff\"], \"has_underparts_color\": [\"has_underparts_color::brown\", \"has_underparts_color::grey\", \"has_underparts_color::yellow\", \"has_underparts_color::black\", \"has_underparts_color::white\", \"has_underparts_color::buff\"], \"has_breast_pattern\": [\"has_breast_pattern::solid\", \"has_breast_pattern::striped\", \"has_breast_pattern::multi-colored\"], \"has_back_color\": [\"has_back_color::brown\", \"has_back_color::grey\", \"has_back_color::yellow\", \"has_back_color::black\"]}"
   ],
   "metadata": {
    "collapsed": false,
    "ExecuteTime": {
     "end_time": "2024-09-01T09:27:03.495943Z",
     "start_time": "2024-09-01T09:27:03.491178Z"
    }
   },
   "id": "c2347c3cad6a5af4"
  },
  {
   "cell_type": "code",
   "execution_count": 26,
   "outputs": [],
   "source": [
    "# load one sample per class\n",
    "birds_dict = {}\n",
    "for j, (img, attr, target) in enumerate(train_loader):\n",
    "    if target[0] not in birds_dict:\n",
    "        birds_dict[target[0].item()] = attr\n",
    "    if len(birds_dict) == num_classes:\n",
    "        break"
   ],
   "metadata": {
    "collapsed": false,
    "ExecuteTime": {
     "end_time": "2024-09-01T09:25:45.004890Z",
     "start_time": "2024-09-01T09:25:42.958114Z"
    }
   },
   "id": "ba0821887048498c"
  },
  {
   "cell_type": "code",
   "execution_count": 27,
   "outputs": [
    {
     "data": {
      "text/plain": "200"
     },
     "execution_count": 27,
     "metadata": {},
     "output_type": "execute_result"
    }
   ],
   "source": [
    "len(birds_dict)"
   ],
   "metadata": {
    "collapsed": false,
    "ExecuteTime": {
     "end_time": "2024-09-01T09:25:45.009861Z",
     "start_time": "2024-09-01T09:25:45.005205Z"
    }
   },
   "id": "c5bad2c206313b84"
  },
  {
   "cell_type": "code",
   "execution_count": 46,
   "outputs": [
    {
     "name": "stdout",
     "output_type": "stream",
     "text": [
      "168 [0.0, 1.0, 0.0, 1.0]\n",
      "37 [1.0, 1.0, 0.0, 0.0]\n",
      "119 [1.0, 1.0, 0.0, 0.0]\n",
      "122 [1.0, 0.0, 0.0, 1.0]\n",
      "49 [0.0, 1.0, 0.0, 1.0]\n",
      "109 [1.0, 0.0, 0.0, 1.0]\n",
      "131 [1.0, 0.0, 0.0, 1.0]\n",
      "124 [1.0, 1.0, 0.0, 1.0]\n",
      "52 [0.0, 1.0, 0.0, 1.0]\n",
      "193 [1.0, 0.0, 0.0, 1.0]\n",
      "116 [1.0, 0.0, 0.0, 1.0]\n",
      "196 [1.0, 0.0, 0.0, 1.0]\n",
      "121 [0.0, 1.0, 0.0, 1.0]\n",
      "95 [0.0, 0.0, 1.0, 1.0]\n",
      "54 [1.0, 0.0, 1.0, 0.0]\n",
      "157 [0.0, 1.0, 0.0, 1.0]\n"
     ]
    }
   ],
   "source": [
    "# For the first concept group, plot the concept values for each class\n",
    "concept_group = \"has_back_color\"\n",
    "concept_group_values = concept_groups[concept_group]\n",
    "for class_idx, concepts in birds_dict.items():\n",
    "    concept_values = []\n",
    "    for concept in concept_group_values:\n",
    "        concept_idx = feature_name_to_index[concept]\n",
    "        concept_values.append(concepts[0, concept_idx].item())\n",
    "    # if all values are zero, print\n",
    "    # if all([v == 0 for v in concept_values]):\n",
    "    #     print(class_idx, concept_values) \n",
    "    # if more than one value is non-zero, print\n",
    "    if sum([v != 0 for v in concept_values]) > 1:\n",
    "        print(class_idx, concept_values)"
   ],
   "metadata": {
    "collapsed": false,
    "ExecuteTime": {
     "end_time": "2024-09-01T09:33:32.168278Z",
     "start_time": "2024-09-01T09:33:32.158992Z"
    }
   },
   "id": "ce033b61b7ca3013"
  },
  {
   "cell_type": "code",
   "execution_count": null,
   "outputs": [],
   "source": [],
   "metadata": {
    "collapsed": false
   },
   "id": "108ace0c226a0506"
  }
 ],
 "metadata": {
  "kernelspec": {
   "display_name": "Python 3",
   "language": "python",
   "name": "python3"
  },
  "language_info": {
   "codemirror_mode": {
    "name": "ipython",
    "version": 2
   },
   "file_extension": ".py",
   "mimetype": "text/x-python",
   "name": "python",
   "nbconvert_exporter": "python",
   "pygments_lexer": "ipython2",
   "version": "2.7.6"
  }
 },
 "nbformat": 4,
 "nbformat_minor": 5
}
