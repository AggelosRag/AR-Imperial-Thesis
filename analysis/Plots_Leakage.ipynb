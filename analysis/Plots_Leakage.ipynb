{
 "cells": [
  {
   "cell_type": "code",
   "execution_count": 15,
   "id": "initial_id",
   "metadata": {
    "collapsed": true,
    "ExecuteTime": {
     "end_time": "2024-06-29T22:10:01.551689Z",
     "start_time": "2024-06-29T22:10:01.516889Z"
    }
   },
   "outputs": [],
   "source": [
    "import pickle\n",
    "import matplotlib.pyplot as plt\n",
    "import seaborn as sns\n",
    "import pandas as pd\n",
    "import numpy as np"
   ]
  },
  {
   "cell_type": "code",
   "execution_count": 16,
   "outputs": [],
   "source": [
    "feature_names = [\"thickness_small\", \"thickness_medium\", \"thickness_large\", \"thickness_xlarge\",\n",
    "                 \"width_small\", \"width_medium\", \"width_large\", \"width_xlarge\",\n",
    "                 \"length_small\", \"length_medium\", \"length_large\", \"length_xlarge\"]\n",
    "\n",
    "class_names = [\"6\", \"8\", \"9\"]\n",
    "\n",
    "# mapping from feature index to feature name\n",
    "feature_index_to_name = {i: feature_name for i, feature_name in enumerate(feature_names)}\n",
    "# mapping from feature name to feature index\n",
    "feature_name_to_index = {feature_name: i for i, feature_name in enumerate(feature_names)}\n",
    "# mapping from class index to class name\n",
    "class_index_to_name = {i: class_name for i, class_name in enumerate(class_names)}\n",
    "# mapping from class name to class index\n",
    "class_name_to_index = {class_name: i for i, class_name in enumerate(class_names)}"
   ],
   "metadata": {
    "collapsed": false,
    "ExecuteTime": {
     "end_time": "2024-06-29T22:10:01.639659Z",
     "start_time": "2024-06-29T22:10:01.521207Z"
    }
   },
   "id": "af1ff9f4072d3645"
  },
  {
   "cell_type": "code",
   "execution_count": 17,
   "outputs": [],
   "source": [
    "path_binary = \"/Users/gouse/PycharmProjects/AR-Imperial-Thesis/saved/log/leakage_explainer/0628_173016/trees/tree_binary_data.pkl\"\n",
    "\n",
    "path_prob = \"/Users/gouse/PycharmProjects/AR-Imperial-Thesis/saved/log/leakage_explainer/0628_173016/trees/tree_prob_data.pkl\""
   ],
   "metadata": {
    "collapsed": false,
    "ExecuteTime": {
     "end_time": "2024-06-29T22:10:01.640765Z",
     "start_time": "2024-06-29T22:10:01.524379Z"
    }
   },
   "id": "61c6dbed39ce4124"
  },
  {
   "cell_type": "code",
   "execution_count": 18,
   "outputs": [],
   "source": [
    "with open(path_binary, 'rb') as f:\n",
    "    data_binary = pickle.load(f)\n",
    "\n",
    "X = data_binary['X']\n",
    "c = data_binary['c']\n",
    "y = data_binary['y']\n",
    "tree = data_binary['tree']\n",
    "paths = data_binary['paths']\n",
    "path_counts = data_binary['path_counts']\n",
    "path_classifications = data_binary['path_classifications']\n",
    "path_indices = data_binary['path_indices']\n",
    "accuracies = data_binary['accuracies']\n",
    "\n",
    "with open(path_prob, 'rb') as f:\n",
    "    data_prob = pickle.load(f)\n",
    "    \n",
    "X_prob = data_prob['X']\n",
    "c_prob = data_prob['c']\n",
    "y_prob = data_prob['y']\n",
    "tree_prob = data_prob['tree']\n",
    "paths_prob = data_prob['paths']\n",
    "path_counts_prob = data_prob['path_counts']\n",
    "path_classifications_prob = data_prob['path_classifications']\n",
    "path_indices_prob = data_prob['path_indices']\n",
    "accuracies_prob = data_prob['accuracies']\n"
   ],
   "metadata": {
    "collapsed": false,
    "ExecuteTime": {
     "end_time": "2024-06-29T22:10:01.692369Z",
     "start_time": "2024-06-29T22:10:01.528323Z"
    }
   },
   "id": "aa4c8223f2073484"
  },
  {
   "cell_type": "markdown",
   "source": [
    "## Number of examples with identical concepts"
   ],
   "metadata": {
    "collapsed": false
   },
   "id": "bb1979787551c257"
  },
  {
   "cell_type": "code",
   "execution_count": 19,
   "outputs": [
    {
     "name": "stdout",
     "output_type": "stream",
     "text": [
      "Accuracy: 0.6324\n"
     ]
    }
   ],
   "source": [
    "# fit a decision tree in c and y\n",
    "from sklearn.tree import DecisionTreeClassifier\n",
    "\n",
    "c = np.array(c)\n",
    "y = np.array(y)\n",
    "\n",
    "clf = DecisionTreeClassifier(random_state=0)\n",
    "clf.fit(c, y)\n",
    "y_pred = clf.predict(c)\n",
    "\n",
    "# print accuracy\n",
    "accuracy = np.mean(y == y_pred)\n",
    "print(f\"Accuracy: {accuracy:.4f}\")"
   ],
   "metadata": {
    "collapsed": false,
    "ExecuteTime": {
     "end_time": "2024-06-29T22:10:01.692633Z",
     "start_time": "2024-06-29T22:10:01.627319Z"
    }
   },
   "id": "a63aa3ed357b91d8"
  },
  {
   "cell_type": "code",
   "execution_count": 20,
   "outputs": [
    {
     "name": "stdout",
     "output_type": "stream",
     "text": [
      "Total unique concept combinations: 64\n",
      "Concept combinations with more than one class: 57\n"
     ]
    }
   ],
   "source": [
    "def find_identical_concepts(X, y, c):\n",
    "    # Combine X, y, and c into a single DataFrame\n",
    "    df = pd.DataFrame(index = np.arange(0, X.shape[0]))\n",
    "    df['class'] = np.array(y)\n",
    "    c_columns = [f'concept_{i}' for i in range(c.shape[1])]\n",
    "    df[c_columns] = c\n",
    "    \n",
    "    # Group by concepts and count unique classes\n",
    "    grouped = df.groupby(list(df.columns[1:]))['class'].nunique().reset_index(name='unique_classes')\n",
    "    \n",
    "    # Filter to find concept combinations belonging to more than one class\n",
    "    shared_concepts = grouped[grouped['unique_classes'] > 1]\n",
    "    \n",
    "    return grouped, shared_concepts\n",
    "\n",
    "# Find identical concepts per class\n",
    "grouped_data, shared_concepts = find_identical_concepts(X, y, c)\n",
    "print(f\"Total unique concept combinations: {len(grouped_data)}\")\n",
    "print(f\"Concept combinations with more than one class: {len(shared_concepts)}\")"
   ],
   "metadata": {
    "collapsed": false,
    "ExecuteTime": {
     "end_time": "2024-06-29T22:10:01.692749Z",
     "start_time": "2024-06-29T22:10:01.627618Z"
    }
   },
   "id": "bbb7a068ab25fdce"
  },
  {
   "cell_type": "markdown",
   "source": [
    "## Leakage for Decision Paths"
   ],
   "metadata": {
    "collapsed": false
   },
   "id": "b1b0d247d451330c"
  },
  {
   "cell_type": "code",
   "execution_count": 21,
   "outputs": [
    {
     "data": {
      "text/plain": "[('length_xlarge', '<=', 0.02687594573944807),\n ('length_large', '<=', 0.07450471445918083),\n ('thickness_xlarge', '>', 0.9573398530483246),\n ('width_large', '>', 0.9963947832584381),\n ('length_medium', '>', 0.8444176614284515)]"
     },
     "execution_count": 21,
     "metadata": {},
     "output_type": "execute_result"
    }
   ],
   "source": [
    "paths_prob[3]"
   ],
   "metadata": {
    "collapsed": false,
    "ExecuteTime": {
     "end_time": "2024-06-29T22:10:01.692909Z",
     "start_time": "2024-06-29T22:10:01.627722Z"
    }
   },
   "id": "f6812020fe78f1a5"
  },
  {
   "cell_type": "code",
   "execution_count": 22,
   "outputs": [
    {
     "data": {
      "text/plain": "[('length_xlarge', '<=', 0.5),\n ('length_large', '<=', 0.5),\n ('thickness_xlarge', '>', 0.5),\n ('width_large', '>', 0.5),\n ('length_medium', '>', 0.5)]"
     },
     "execution_count": 22,
     "metadata": {},
     "output_type": "execute_result"
    }
   ],
   "source": [
    "paths[6]"
   ],
   "metadata": {
    "collapsed": false,
    "ExecuteTime": {
     "end_time": "2024-06-29T22:10:01.693028Z",
     "start_time": "2024-06-29T22:10:01.627783Z"
    }
   },
   "id": "edfedbb693b18b13"
  },
  {
   "cell_type": "code",
   "execution_count": 23,
   "outputs": [
    {
     "name": "stdout",
     "output_type": "stream",
     "text": [
      "186\n",
      "33\n",
      "219\n",
      "186\n"
     ]
    },
    {
     "name": "stderr",
     "output_type": "stream",
     "text": [
      "/var/folders/s6/pzn2mzln089b14702jlw7cqm0000gn/T/ipykernel_39793/2924816729.py:33: FutureWarning: Setting an item of incompatible dtype is deprecated and will raise an error in a future version of pandas. Value '8' has dtype incompatible with float64, please explicitly cast to a compatible dtype first.\n",
      "  df_indices.loc[df_indices['example_idx'] == idx, 'classification_in_prob_tree'] = class_index_to_name[path_classifications_prob[path_idx]]\n",
      "/var/folders/s6/pzn2mzln089b14702jlw7cqm0000gn/T/ipykernel_39793/2924816729.py:34: FutureWarning: Setting an item of incompatible dtype is deprecated and will raise an error in a future version of pandas. Value '9' has dtype incompatible with float64, please explicitly cast to a compatible dtype first.\n",
      "  df_indices.loc[df_indices['example_idx'] == idx, 'classification_in_binary_tree'] = class_index_to_name[path_classifications[6]]\n"
     ]
    }
   ],
   "source": [
    "def find_shared_and_different_indices(path1_indices, path2_indices):\n",
    "    set1 = set(path1_indices)\n",
    "    set2 = set(path2_indices)\n",
    "\n",
    "    shared_indices = list(set1 & set2)\n",
    "    different_indices = list(set1 ^ set2)\n",
    "\n",
    "    return shared_indices, different_indices\n",
    "\n",
    "binary_indices = path_indices[6]\n",
    "prob_indices = path_indices_prob[3]\n",
    "\n",
    "shared_indices, different_indices = find_shared_and_different_indices(binary_indices, prob_indices)\n",
    "print(len(shared_indices))\n",
    "print(len(different_indices))\n",
    "print(len(binary_indices))\n",
    "print(len(prob_indices))\n",
    "\n",
    "# SOS! We found that all the indices in binary are also in prob! Great!\n",
    "\n",
    "# Find the decision paths for the indices of path1 that are not in path2\n",
    "unique_indices = [i for i in binary_indices if i not in prob_indices]\n",
    "df_indices = pd.DataFrame(index = np.arange(0, len(unique_indices)))\n",
    "df_indices['example_idx'] = unique_indices\n",
    "df_indices['decision_path_idx_in_prob_tree'] = np.nan\n",
    "df_indices['classification_in_binary_tree'] = np.nan\n",
    "df_indices['classification_in_prob_tree'] = np.nan\n",
    "df_indices['true_class'] = [class_index_to_name[cl] for cl in y[unique_indices]]\n",
    "for idx in unique_indices:\n",
    "    for path_idx, indices_list in enumerate(path_indices_prob):\n",
    "        if idx in indices_list:\n",
    "            df_indices.loc[df_indices['example_idx'] == idx, 'decision_path_idx_in_prob_tree'] = path_idx\n",
    "            df_indices.loc[df_indices['example_idx'] == idx, 'classification_in_prob_tree'] = class_index_to_name[path_classifications_prob[path_idx]]\n",
    "            df_indices.loc[df_indices['example_idx'] == idx, 'classification_in_binary_tree'] = class_index_to_name[path_classifications[6]]\n",
    "      "
   ],
   "metadata": {
    "collapsed": false,
    "ExecuteTime": {
     "end_time": "2024-06-29T22:10:01.693777Z",
     "start_time": "2024-06-29T22:10:01.636504Z"
    }
   },
   "id": "53824a67a0617b1"
  },
  {
   "cell_type": "markdown",
   "source": [
    "## Visualise an example that was misclassified in the binary tree but correctly classified in the prob tree"
   ],
   "metadata": {
    "collapsed": false
   },
   "id": "b0de837b337847dc"
  },
  {
   "cell_type": "code",
   "execution_count": 24,
   "outputs": [],
   "source": [
    "def convert_to_in_between(decision_path, pr_class):\n",
    "    conditions = {}\n",
    "    for feature, op, value in decision_path:\n",
    "        if feature not in conditions:\n",
    "            conditions[feature] = {'<=': None, '>': None}\n",
    "        if value == 0.5:\n",
    "            if op == '<=':\n",
    "                conditions[feature]['='] = 0\n",
    "            elif op == '>':\n",
    "                conditions[feature]['='] = 1\n",
    "        else:\n",
    "            conditions[feature][op] = value\n",
    "\n",
    "    in_between_clauses = []\n",
    "    for feature, ops in conditions.items():\n",
    "        lower = ops['>']\n",
    "        upper = ops['<=']\n",
    "        exact = ops.get('=')\n",
    "        if exact is not None:\n",
    "            in_between_clauses.append(f\"{feature} = {exact}\")\n",
    "        elif lower is not None and upper is not None:\n",
    "            in_between_clauses.append(f\"{feature} in ({lower:.2f}, {upper:.2f})\")\n",
    "        elif lower is not None:\n",
    "            in_between_clauses.append(f\"{feature} > {lower:.2f}\")\n",
    "        elif upper is not None:\n",
    "            in_between_clauses.append(f\"{feature} <= {upper:.2f}\")\n",
    "    \n",
    "    return \" IF \" + \" AND \".join(in_between_clauses) + f\" THEN class = {pr_class}\""
   ],
   "metadata": {
    "collapsed": false,
    "ExecuteTime": {
     "end_time": "2024-06-29T22:10:01.694025Z",
     "start_time": "2024-06-29T22:10:01.648822Z"
    }
   },
   "id": "69b16f6192338c8f"
  },
  {
   "cell_type": "code",
   "execution_count": 25,
   "outputs": [
    {
     "name": "stdout",
     "output_type": "stream",
     "text": [
      "[('length_xlarge', '>', 0.02687594573944807), ('length_xlarge', '<=', 0.8820104598999023), ('width_xlarge', '<=', 0.9982125163078308)]\n",
      "tensor([9.0678e-11, 1.8669e-05, 5.0140e-04, 9.9988e-01, 2.3572e-09, 2.9433e-09,\n",
      "        9.9966e-01, 1.0578e-04, 2.0867e-05, 9.9978e-01, 3.3211e-05, 7.1187e-01])\n",
      "{'thickness_small': 0, 'thickness_medium': 1, 'thickness_large': 2, 'thickness_xlarge': 3, 'width_small': 4, 'width_medium': 5, 'width_large': 6, 'width_xlarge': 7, 'length_small': 8, 'length_medium': 9, 'length_large': 10, 'length_xlarge': 11}\n"
     ]
    },
    {
     "data": {
      "text/plain": "<Figure size 640x480 with 1 Axes>",
      "image/png": "[encoded data removed]"
     },
     "metadata": {},
     "output_type": "display_data"
    },
    {
     "name": "stdout",
     "output_type": "stream",
     "text": [
      "True class: 8\n",
      "\n",
      "Concept True values:\n",
      "thickness_small = 0\n",
      "thickness_medium = 0\n",
      "thickness_large = 0\n",
      "thickness_xlarge = 1\n",
      "width_small = 0\n",
      "width_medium = 0\n",
      "width_large = 1\n",
      "width_xlarge = 0\n",
      "length_small = 0\n",
      "length_medium = 1\n",
      "length_large = 0\n",
      "length_xlarge = 0\n",
      "\n",
      "Decision path in ground truth tree: \n",
      "  IF length_xlarge = 0 AND length_large = 0 AND thickness_xlarge = 1 AND width_large = 1 AND length_medium = 1 THEN class = 9\n",
      "\n",
      "Concept Predicted values: \n",
      "thickness_small = 0.0000000001\n",
      "thickness_medium = 0.0000186685\n",
      "thickness_large = 0.0005014005\n",
      "thickness_xlarge = 0.9998830557\n",
      "width_small = 0.0000000024\n",
      "width_medium = 0.0000000029\n",
      "width_large = 0.9996578693\n",
      "width_xlarge = 0.0001057763\n",
      "length_small = 0.0000208666\n",
      "length_medium = 0.9997848868\n",
      "length_large = 0.0000332112\n",
      "length_xlarge = 0.7118660212\n",
      "\n",
      "Decision path in leaked tree: \n",
      "  IF length_xlarge in (0.03, 0.88) AND width_xlarge <= 1.00 THEN class = 8\n"
     ]
    }
   ],
   "source": [
    "# We pick example with index 636 from the df_indices\n",
    "idx = 636\n",
    "# Verify that the example belongs to this path\n",
    "print(paths_prob[6])\n",
    "print(c_prob[idx, :])\n",
    "print(feature_name_to_index)\n",
    "\n",
    "# plot the digit\n",
    "plt.imshow(X_prob[idx].reshape(28,28), cmap='gray')\n",
    "plt.axis('off')\n",
    "plt.show()\n",
    "print(f\"True class: {class_index_to_name[y_prob[idx].item()]}\\n\")\n",
    "\n",
    "print(f\"Concept True values:\")\n",
    "for concept in range(c.shape[1]):\n",
    "    print(f\"{feature_index_to_name[concept]} = {int(c[idx, concept])}\")\n",
    "\n",
    "pr_class = class_index_to_name[path_classifications[6]]    \n",
    "print(f\"\\nDecision path in ground truth tree: \")\n",
    "print(f\" {convert_to_in_between(paths[6], pr_class)}\")\n",
    "\n",
    "print(f\"\\nConcept Predicted values: \")\n",
    "for concept in range(c_prob.shape[1]):\n",
    "    print(f\"{feature_index_to_name[concept]} = {c_prob[idx, concept]:.10f}\")\n",
    "\n",
    "pr_class = class_index_to_name[path_classifications_prob[6]]\n",
    "print(f\"\\nDecision path in leaked tree: \")\n",
    "print(f\" {convert_to_in_between(paths_prob[6], pr_class)}\")"
   ],
   "metadata": {
    "collapsed": false,
    "ExecuteTime": {
     "end_time": "2024-06-29T22:10:01.717596Z",
     "start_time": "2024-06-29T22:10:01.652212Z"
    }
   },
   "id": "7bc40778c7f3eb8"
  },
  {
   "cell_type": "markdown",
   "source": [
    "## Make Box Plots"
   ],
   "metadata": {
    "collapsed": false
   },
   "id": "e57afef244c81c51"
  },
  {
   "cell_type": "code",
   "execution_count": 26,
   "outputs": [
    {
     "data": {
      "text/plain": "<Figure size 1500x300 with 5 Axes>",
      "image/png": "[encoded data removed]"
     },
     "metadata": {},
     "output_type": "display_data"
    },
    {
     "data": {
      "text/plain": "<Figure size 2000x500 with 0 Axes>"
     },
     "metadata": {},
     "output_type": "display_data"
    },
    {
     "data": {
      "text/plain": "<Figure size 1500x300 with 5 Axes>",
      "image/png": "[encoded data removed]"
     },
     "metadata": {},
     "output_type": "display_data"
    },
    {
     "data": {
      "text/plain": "<Figure size 2000x500 with 0 Axes>"
     },
     "metadata": {},
     "output_type": "display_data"
    }
   ],
   "source": [
    "def plot_boxplots_for_path(c, paths, feature_names):\n",
    "\n",
    "    fig, axs = plt.subplots(1, len(paths), figsize=(3* len(paths), 3), sharey=True)\n",
    "    \n",
    "    if len(paths) == 1:\n",
    "        axs = [axs]\n",
    "    plt.figure(figsize=(20, 1 * len(paths)))\n",
    "    for i, (feature, op, threshold) in enumerate(paths):\n",
    "        feature_index = feature_names[feature]\n",
    "        sns.stripplot(y=c[:, feature_index], ax=axs[i], color='darkblue', jitter=True, size=1.5)\n",
    "        axs[i].axhline(y=threshold, color='r', linestyle='-')\n",
    "        axs[i].set_title(f\"{feature} {op} {threshold:.4f}\")\n",
    "        axs[i].set_ylabel('Concept Value')\n",
    "        axs[i].set_xlabel(f'Feature: {feature}')\n",
    "    plt.tight_layout()\n",
    "    plt.show()\n",
    "    \n",
    "# Plot boxplots for path with id=6\n",
    "# extract feature names for this path\n",
    "feature_names_reduced = [f_n for f_n, _, _ in paths_prob[3]]\n",
    "feature_thres = [thres for _, _, thres in paths_prob[3]]\n",
    "feature_ids = [feature_name_to_index[f_n] for f_n in feature_names_reduced]\n",
    "\n",
    "plot_boxplots_for_path(c, paths[6], feature_name_to_index)\n",
    "plot_boxplots_for_path(c_prob, paths_prob[3], feature_name_to_index)"
   ],
   "metadata": {
    "collapsed": false,
    "ExecuteTime": {
     "end_time": "2024-06-29T22:10:02.272974Z",
     "start_time": "2024-06-29T22:10:01.702036Z"
    }
   },
   "id": "c8b9c4941ccb0885"
  },
  {
   "cell_type": "markdown",
   "source": [
    "## Plot the decision trees"
   ],
   "metadata": {
    "collapsed": false
   },
   "id": "446cd35b0a91a14"
  },
  {
   "cell_type": "code",
   "execution_count": 27,
   "outputs": [],
   "source": [
    "from sklearn.tree import export_graphviz\n",
    "import graphviz\n",
    "\n",
    "def modify_thresholds(clf):\n",
    "    for i in range(clf.tree_.node_count):\n",
    "        if clf.tree_.threshold[i] <= 0.5:\n",
    "            clf.tree_.threshold[i] = -2\n",
    "\n",
    "# Assume clf is your trained decision tree classifier\n",
    "modify_thresholds(tree)"
   ],
   "metadata": {
    "collapsed": false,
    "ExecuteTime": {
     "end_time": "2024-06-29T22:10:02.273685Z",
     "start_time": "2024-06-29T22:10:02.271816Z"
    }
   },
   "id": "a0d068507e696828"
  },
  {
   "cell_type": "code",
   "execution_count": 32,
   "outputs": [
    {
     "data": {
      "text/plain": "'plots/binary_decision_tree.png'"
     },
     "execution_count": 32,
     "metadata": {},
     "output_type": "execute_result"
    }
   ],
   "source": [
    "dot_data = export_graphviz(tree, out_file=None, \n",
    "                           feature_names=feature_names,  \n",
    "                           class_names=class_names,  \n",
    "                           filled=True, rounded=True,  \n",
    "                           special_characters=True)\n",
    "dot_data = dot_data.replace('&le; -2', '= 0 ')\n",
    "dot_data = dot_data.replace(' .0', '')\n",
    "\n",
    "graph = graphviz.Source(dot_data)\n",
    "graph.render(\"./plots/binary_decision_tree\", format=\"png\", cleanup=True)"
   ],
   "metadata": {
    "collapsed": false,
    "ExecuteTime": {
     "end_time": "2024-06-29T22:12:34.642175Z",
     "start_time": "2024-06-29T22:12:34.474490Z"
    }
   },
   "id": "6e689762c4fceb72"
  },
  {
   "cell_type": "code",
   "execution_count": 34,
   "outputs": [
    {
     "data": {
      "text/plain": "'plots/prob_decision_tree.png'"
     },
     "execution_count": 34,
     "metadata": {},
     "output_type": "execute_result"
    }
   ],
   "source": [
    "dot_data = export_graphviz(tree_prob, out_file=None, \n",
    "                           feature_names=feature_names,  \n",
    "                           class_names=class_names,  \n",
    "                           filled=True, rounded=True,  \n",
    "                           special_characters=True)\n",
    "\n",
    "graph = graphviz.Source(dot_data)\n",
    "graph.render(\"./plots/prob_decision_tree\", format=\"png\", cleanup=True)"
   ],
   "metadata": {
    "collapsed": false,
    "ExecuteTime": {
     "end_time": "2024-06-29T22:34:19.650212Z",
     "start_time": "2024-06-29T22:34:19.489911Z"
    }
   },
   "id": "19f0f253216fc32a"
  },
  {
   "cell_type": "code",
   "execution_count": null,
   "outputs": [],
   "source": [],
   "metadata": {
    "collapsed": false
   },
   "id": "cea5c71b248dfdc9"
  }
 ],
 "metadata": {
  "kernelspec": {
   "display_name": "Python 3",
   "language": "python",
   "name": "python3"
  },
  "language_info": {
   "codemirror_mode": {
    "name": "ipython",
    "version": 2
   },
   "file_extension": ".py",
   "mimetype": "text/x-python",
   "name": "python",
   "nbconvert_exporter": "python",
   "pygments_lexer": "ipython2",
   "version": "2.7.6"
  }
 },
 "nbformat": 4,
 "nbformat_minor": 5
}
